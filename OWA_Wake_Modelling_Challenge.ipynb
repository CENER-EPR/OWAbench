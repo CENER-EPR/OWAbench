{
 "cells": [
  {
   "cell_type": "markdown",
   "metadata": {},
   "source": [
    "# OWA Wake Modelling Challenge \n",
    "\n",
    "## Introduction\n",
    "This script summarizes the results of the [OWA Wake Modeling Challenge](https://www.carbontrust.com/media/677495/owa-wake-modelling-challenge_final-feb27.pdf)."
   ]
  },
  {
   "cell_type": "markdown",
   "metadata": {},
   "source": [
    "## Load libraries"
   ]
  },
  {
   "cell_type": "code",
   "execution_count": 1,
   "metadata": {},
   "outputs": [],
   "source": [
    "%matplotlib inline\n",
    "import sys\n",
    "sys.path.append('../')\n",
    "import warnings\n",
    "\n",
    "from src.WindConditions import *\n",
    "from src.BinAvrg import *  \n",
    "from scipy import interpolate\n",
    "from IPython.display import Markdown, display\n",
    "import seaborn as sns\n",
    "\n",
    "%load_ext autoreload\n",
    "%autoreload 2"
   ]
  },
  {
   "cell_type": "code",
   "execution_count": 2,
   "metadata": {},
   "outputs": [
    {
     "data": {
      "application/javascript": [
       "IPython.OutputArea.prototype._should_scroll = function(lines) {\n",
       "    return false\n",
       "}\n"
      ],
      "text/plain": [
       "<IPython.core.display.Javascript object>"
      ]
     },
     "metadata": {},
     "output_type": "display_data"
    }
   ],
   "source": [
    "%%javascript \n",
    "IPython.OutputArea.prototype._should_scroll = function(lines) {\n",
    "    return false\n",
    "}"
   ]
  },
  {
   "cell_type": "markdown",
   "metadata": {},
   "source": [
    "## Sites"
   ]
  },
  {
   "cell_type": "code",
   "execution_count": 3,
   "metadata": {},
   "outputs": [
    {
     "data": {
      "text/html": [
       "<style  type=\"text/css\" >\n",
       "    #T_2630dd36_0c3e_11ea_a3d2_251e7a12c5c3row0_col0 {\n",
       "            text-align:  center;\n",
       "        }    #T_2630dd36_0c3e_11ea_a3d2_251e7a12c5c3row0_col1 {\n",
       "            text-align:  center;\n",
       "        }    #T_2630dd36_0c3e_11ea_a3d2_251e7a12c5c3row0_col2 {\n",
       "            text-align:  center;\n",
       "        }    #T_2630dd36_0c3e_11ea_a3d2_251e7a12c5c3row0_col3 {\n",
       "            text-align:  center;\n",
       "        }    #T_2630dd36_0c3e_11ea_a3d2_251e7a12c5c3row0_col4 {\n",
       "            text-align:  center;\n",
       "        }    #T_2630dd36_0c3e_11ea_a3d2_251e7a12c5c3row0_col5 {\n",
       "            text-align:  center;\n",
       "        }    #T_2630dd36_0c3e_11ea_a3d2_251e7a12c5c3row0_col6 {\n",
       "            text-align:  center;\n",
       "        }    #T_2630dd36_0c3e_11ea_a3d2_251e7a12c5c3row0_col7 {\n",
       "            text-align:  center;\n",
       "        }    #T_2630dd36_0c3e_11ea_a3d2_251e7a12c5c3row0_col8 {\n",
       "            text-align:  center;\n",
       "        }    #T_2630dd36_0c3e_11ea_a3d2_251e7a12c5c3row0_col9 {\n",
       "            text-align:  center;\n",
       "        }    #T_2630dd36_0c3e_11ea_a3d2_251e7a12c5c3row0_col10 {\n",
       "            text-align:  center;\n",
       "        }    #T_2630dd36_0c3e_11ea_a3d2_251e7a12c5c3row0_col11 {\n",
       "            text-align:  center;\n",
       "        }    #T_2630dd36_0c3e_11ea_a3d2_251e7a12c5c3row0_col12 {\n",
       "            text-align:  center;\n",
       "        }    #T_2630dd36_0c3e_11ea_a3d2_251e7a12c5c3row1_col0 {\n",
       "            text-align:  center;\n",
       "        }    #T_2630dd36_0c3e_11ea_a3d2_251e7a12c5c3row1_col1 {\n",
       "            text-align:  center;\n",
       "        }    #T_2630dd36_0c3e_11ea_a3d2_251e7a12c5c3row1_col2 {\n",
       "            text-align:  center;\n",
       "        }    #T_2630dd36_0c3e_11ea_a3d2_251e7a12c5c3row1_col3 {\n",
       "            text-align:  center;\n",
       "        }    #T_2630dd36_0c3e_11ea_a3d2_251e7a12c5c3row1_col4 {\n",
       "            text-align:  center;\n",
       "        }    #T_2630dd36_0c3e_11ea_a3d2_251e7a12c5c3row1_col5 {\n",
       "            text-align:  center;\n",
       "        }    #T_2630dd36_0c3e_11ea_a3d2_251e7a12c5c3row1_col6 {\n",
       "            text-align:  center;\n",
       "        }    #T_2630dd36_0c3e_11ea_a3d2_251e7a12c5c3row1_col7 {\n",
       "            text-align:  center;\n",
       "        }    #T_2630dd36_0c3e_11ea_a3d2_251e7a12c5c3row1_col8 {\n",
       "            text-align:  center;\n",
       "        }    #T_2630dd36_0c3e_11ea_a3d2_251e7a12c5c3row1_col9 {\n",
       "            text-align:  center;\n",
       "        }    #T_2630dd36_0c3e_11ea_a3d2_251e7a12c5c3row1_col10 {\n",
       "            text-align:  center;\n",
       "        }    #T_2630dd36_0c3e_11ea_a3d2_251e7a12c5c3row1_col11 {\n",
       "            text-align:  center;\n",
       "        }    #T_2630dd36_0c3e_11ea_a3d2_251e7a12c5c3row1_col12 {\n",
       "            text-align:  center;\n",
       "        }    #T_2630dd36_0c3e_11ea_a3d2_251e7a12c5c3row2_col0 {\n",
       "            text-align:  center;\n",
       "        }    #T_2630dd36_0c3e_11ea_a3d2_251e7a12c5c3row2_col1 {\n",
       "            text-align:  center;\n",
       "        }    #T_2630dd36_0c3e_11ea_a3d2_251e7a12c5c3row2_col2 {\n",
       "            text-align:  center;\n",
       "        }    #T_2630dd36_0c3e_11ea_a3d2_251e7a12c5c3row2_col3 {\n",
       "            text-align:  center;\n",
       "        }    #T_2630dd36_0c3e_11ea_a3d2_251e7a12c5c3row2_col4 {\n",
       "            text-align:  center;\n",
       "        }    #T_2630dd36_0c3e_11ea_a3d2_251e7a12c5c3row2_col5 {\n",
       "            text-align:  center;\n",
       "        }    #T_2630dd36_0c3e_11ea_a3d2_251e7a12c5c3row2_col6 {\n",
       "            text-align:  center;\n",
       "        }    #T_2630dd36_0c3e_11ea_a3d2_251e7a12c5c3row2_col7 {\n",
       "            text-align:  center;\n",
       "        }    #T_2630dd36_0c3e_11ea_a3d2_251e7a12c5c3row2_col8 {\n",
       "            text-align:  center;\n",
       "        }    #T_2630dd36_0c3e_11ea_a3d2_251e7a12c5c3row2_col9 {\n",
       "            text-align:  center;\n",
       "        }    #T_2630dd36_0c3e_11ea_a3d2_251e7a12c5c3row2_col10 {\n",
       "            text-align:  center;\n",
       "        }    #T_2630dd36_0c3e_11ea_a3d2_251e7a12c5c3row2_col11 {\n",
       "            text-align:  center;\n",
       "        }    #T_2630dd36_0c3e_11ea_a3d2_251e7a12c5c3row2_col12 {\n",
       "            text-align:  center;\n",
       "        }    #T_2630dd36_0c3e_11ea_a3d2_251e7a12c5c3row3_col0 {\n",
       "            text-align:  center;\n",
       "        }    #T_2630dd36_0c3e_11ea_a3d2_251e7a12c5c3row3_col1 {\n",
       "            text-align:  center;\n",
       "        }    #T_2630dd36_0c3e_11ea_a3d2_251e7a12c5c3row3_col2 {\n",
       "            text-align:  center;\n",
       "        }    #T_2630dd36_0c3e_11ea_a3d2_251e7a12c5c3row3_col3 {\n",
       "            text-align:  center;\n",
       "        }    #T_2630dd36_0c3e_11ea_a3d2_251e7a12c5c3row3_col4 {\n",
       "            text-align:  center;\n",
       "        }    #T_2630dd36_0c3e_11ea_a3d2_251e7a12c5c3row3_col5 {\n",
       "            text-align:  center;\n",
       "        }    #T_2630dd36_0c3e_11ea_a3d2_251e7a12c5c3row3_col6 {\n",
       "            text-align:  center;\n",
       "        }    #T_2630dd36_0c3e_11ea_a3d2_251e7a12c5c3row3_col7 {\n",
       "            text-align:  center;\n",
       "        }    #T_2630dd36_0c3e_11ea_a3d2_251e7a12c5c3row3_col8 {\n",
       "            text-align:  center;\n",
       "        }    #T_2630dd36_0c3e_11ea_a3d2_251e7a12c5c3row3_col9 {\n",
       "            text-align:  center;\n",
       "        }    #T_2630dd36_0c3e_11ea_a3d2_251e7a12c5c3row3_col10 {\n",
       "            text-align:  center;\n",
       "        }    #T_2630dd36_0c3e_11ea_a3d2_251e7a12c5c3row3_col11 {\n",
       "            text-align:  center;\n",
       "        }    #T_2630dd36_0c3e_11ea_a3d2_251e7a12c5c3row3_col12 {\n",
       "            text-align:  center;\n",
       "        }    #T_2630dd36_0c3e_11ea_a3d2_251e7a12c5c3row4_col0 {\n",
       "            text-align:  center;\n",
       "        }    #T_2630dd36_0c3e_11ea_a3d2_251e7a12c5c3row4_col1 {\n",
       "            text-align:  center;\n",
       "        }    #T_2630dd36_0c3e_11ea_a3d2_251e7a12c5c3row4_col2 {\n",
       "            text-align:  center;\n",
       "        }    #T_2630dd36_0c3e_11ea_a3d2_251e7a12c5c3row4_col3 {\n",
       "            text-align:  center;\n",
       "        }    #T_2630dd36_0c3e_11ea_a3d2_251e7a12c5c3row4_col4 {\n",
       "            text-align:  center;\n",
       "        }    #T_2630dd36_0c3e_11ea_a3d2_251e7a12c5c3row4_col5 {\n",
       "            text-align:  center;\n",
       "        }    #T_2630dd36_0c3e_11ea_a3d2_251e7a12c5c3row4_col6 {\n",
       "            text-align:  center;\n",
       "        }    #T_2630dd36_0c3e_11ea_a3d2_251e7a12c5c3row4_col7 {\n",
       "            text-align:  center;\n",
       "        }    #T_2630dd36_0c3e_11ea_a3d2_251e7a12c5c3row4_col8 {\n",
       "            text-align:  center;\n",
       "        }    #T_2630dd36_0c3e_11ea_a3d2_251e7a12c5c3row4_col9 {\n",
       "            text-align:  center;\n",
       "        }    #T_2630dd36_0c3e_11ea_a3d2_251e7a12c5c3row4_col10 {\n",
       "            text-align:  center;\n",
       "        }    #T_2630dd36_0c3e_11ea_a3d2_251e7a12c5c3row4_col11 {\n",
       "            text-align:  center;\n",
       "        }    #T_2630dd36_0c3e_11ea_a3d2_251e7a12c5c3row4_col12 {\n",
       "            text-align:  center;\n",
       "        }</style><table id=\"T_2630dd36_0c3e_11ea_a3d2_251e7a12c5c3\" ><thead>    <tr>        <th class=\"blank level0\" ></th>        <th class=\"col_heading level0 col0\" >Name</th>        <th class=\"col_heading level0 col1\" >ID</th>        <th class=\"col_heading level0 col2\" >Data Provider</th>        <th class=\"col_heading level0 col3\" >LON</th>        <th class=\"col_heading level0 col4\" >LAT</th>        <th class=\"col_heading level0 col5\" >From</th>        <th class=\"col_heading level0 col6\" >To</th>        <th class=\"col_heading level0 col7\" >Ptot(MW)</th>        <th class=\"col_heading level0 col8\" >Nt</th>        <th class=\"col_heading level0 col9\" >Turbine Type</th>        <th class=\"col_heading level0 col10\" >P(MW)</th>        <th class=\"col_heading level0 col11\" >D(m)</th>        <th class=\"col_heading level0 col12\" >zhub(m)</th>    </tr></thead><tbody>\n",
       "                <tr>\n",
       "                        <th id=\"T_2630dd36_0c3e_11ea_a3d2_251e7a12c5c3level0_row0\" class=\"row_heading level0 row0\" >0</th>\n",
       "                        <td id=\"T_2630dd36_0c3e_11ea_a3d2_251e7a12c5c3row0_col0\" class=\"data row0 col0\" >Anholt</td>\n",
       "                        <td id=\"T_2630dd36_0c3e_11ea_a3d2_251e7a12c5c3row0_col1\" class=\"data row0 col1\" >anh</td>\n",
       "                        <td id=\"T_2630dd36_0c3e_11ea_a3d2_251e7a12c5c3row0_col2\" class=\"data row0 col2\" >Ørsted</td>\n",
       "                        <td id=\"T_2630dd36_0c3e_11ea_a3d2_251e7a12c5c3row0_col3\" class=\"data row0 col3\" >11.2</td>\n",
       "                        <td id=\"T_2630dd36_0c3e_11ea_a3d2_251e7a12c5c3row0_col4\" class=\"data row0 col4\" >56.6</td>\n",
       "                        <td id=\"T_2630dd36_0c3e_11ea_a3d2_251e7a12c5c3row0_col5\" class=\"data row0 col5\" >1-Jan-2013</td>\n",
       "                        <td id=\"T_2630dd36_0c3e_11ea_a3d2_251e7a12c5c3row0_col6\" class=\"data row0 col6\" >30-Jun-2015</td>\n",
       "                        <td id=\"T_2630dd36_0c3e_11ea_a3d2_251e7a12c5c3row0_col7\" class=\"data row0 col7\" >399.6</td>\n",
       "                        <td id=\"T_2630dd36_0c3e_11ea_a3d2_251e7a12c5c3row0_col8\" class=\"data row0 col8\" >111</td>\n",
       "                        <td id=\"T_2630dd36_0c3e_11ea_a3d2_251e7a12c5c3row0_col9\" class=\"data row0 col9\" >SWT-3.6-120</td>\n",
       "                        <td id=\"T_2630dd36_0c3e_11ea_a3d2_251e7a12c5c3row0_col10\" class=\"data row0 col10\" >3.6</td>\n",
       "                        <td id=\"T_2630dd36_0c3e_11ea_a3d2_251e7a12c5c3row0_col11\" class=\"data row0 col11\" >120</td>\n",
       "                        <td id=\"T_2630dd36_0c3e_11ea_a3d2_251e7a12c5c3row0_col12\" class=\"data row0 col12\" >82</td>\n",
       "            </tr>\n",
       "            <tr>\n",
       "                        <th id=\"T_2630dd36_0c3e_11ea_a3d2_251e7a12c5c3level0_row1\" class=\"row_heading level0 row1\" >1</th>\n",
       "                        <td id=\"T_2630dd36_0c3e_11ea_a3d2_251e7a12c5c3row1_col0\" class=\"data row1 col0\" >Dudgeon</td>\n",
       "                        <td id=\"T_2630dd36_0c3e_11ea_a3d2_251e7a12c5c3row1_col1\" class=\"data row1 col1\" >dud</td>\n",
       "                        <td id=\"T_2630dd36_0c3e_11ea_a3d2_251e7a12c5c3row1_col2\" class=\"data row1 col2\" >Equinor</td>\n",
       "                        <td id=\"T_2630dd36_0c3e_11ea_a3d2_251e7a12c5c3row1_col3\" class=\"data row1 col3\" >1.3816</td>\n",
       "                        <td id=\"T_2630dd36_0c3e_11ea_a3d2_251e7a12c5c3row1_col4\" class=\"data row1 col4\" >53.2585</td>\n",
       "                        <td id=\"T_2630dd36_0c3e_11ea_a3d2_251e7a12c5c3row1_col5\" class=\"data row1 col5\" >1-Dec-2017</td>\n",
       "                        <td id=\"T_2630dd36_0c3e_11ea_a3d2_251e7a12c5c3row1_col6\" class=\"data row1 col6\" >30-Nov-2018</td>\n",
       "                        <td id=\"T_2630dd36_0c3e_11ea_a3d2_251e7a12c5c3row1_col7\" class=\"data row1 col7\" >402</td>\n",
       "                        <td id=\"T_2630dd36_0c3e_11ea_a3d2_251e7a12c5c3row1_col8\" class=\"data row1 col8\" >67</td>\n",
       "                        <td id=\"T_2630dd36_0c3e_11ea_a3d2_251e7a12c5c3row1_col9\" class=\"data row1 col9\" >SWT-6.0-154</td>\n",
       "                        <td id=\"T_2630dd36_0c3e_11ea_a3d2_251e7a12c5c3row1_col10\" class=\"data row1 col10\" >6</td>\n",
       "                        <td id=\"T_2630dd36_0c3e_11ea_a3d2_251e7a12c5c3row1_col11\" class=\"data row1 col11\" >154</td>\n",
       "                        <td id=\"T_2630dd36_0c3e_11ea_a3d2_251e7a12c5c3row1_col12\" class=\"data row1 col12\" >110</td>\n",
       "            </tr>\n",
       "            <tr>\n",
       "                        <th id=\"T_2630dd36_0c3e_11ea_a3d2_251e7a12c5c3level0_row2\" class=\"row_heading level0 row2\" >2</th>\n",
       "                        <td id=\"T_2630dd36_0c3e_11ea_a3d2_251e7a12c5c3row2_col0\" class=\"data row2 col0\" >Rodsand2</td>\n",
       "                        <td id=\"T_2630dd36_0c3e_11ea_a3d2_251e7a12c5c3row2_col1\" class=\"data row2 col1\" >rod</td>\n",
       "                        <td id=\"T_2630dd36_0c3e_11ea_a3d2_251e7a12c5c3row2_col2\" class=\"data row2 col2\" >EON</td>\n",
       "                        <td id=\"T_2630dd36_0c3e_11ea_a3d2_251e7a12c5c3row2_col3\" class=\"data row2 col3\" >11.461</td>\n",
       "                        <td id=\"T_2630dd36_0c3e_11ea_a3d2_251e7a12c5c3row2_col4\" class=\"data row2 col4\" >54.573</td>\n",
       "                        <td id=\"T_2630dd36_0c3e_11ea_a3d2_251e7a12c5c3row2_col5\" class=\"data row2 col5\" >1-Feb-2013</td>\n",
       "                        <td id=\"T_2630dd36_0c3e_11ea_a3d2_251e7a12c5c3row2_col6\" class=\"data row2 col6\" >30-Jun-2014</td>\n",
       "                        <td id=\"T_2630dd36_0c3e_11ea_a3d2_251e7a12c5c3row2_col7\" class=\"data row2 col7\" >207</td>\n",
       "                        <td id=\"T_2630dd36_0c3e_11ea_a3d2_251e7a12c5c3row2_col8\" class=\"data row2 col8\" >90</td>\n",
       "                        <td id=\"T_2630dd36_0c3e_11ea_a3d2_251e7a12c5c3row2_col9\" class=\"data row2 col9\" >SWT-2.3-93</td>\n",
       "                        <td id=\"T_2630dd36_0c3e_11ea_a3d2_251e7a12c5c3row2_col10\" class=\"data row2 col10\" >2.3</td>\n",
       "                        <td id=\"T_2630dd36_0c3e_11ea_a3d2_251e7a12c5c3row2_col11\" class=\"data row2 col11\" >82.4</td>\n",
       "                        <td id=\"T_2630dd36_0c3e_11ea_a3d2_251e7a12c5c3row2_col12\" class=\"data row2 col12\" >68.5</td>\n",
       "            </tr>\n",
       "            <tr>\n",
       "                        <th id=\"T_2630dd36_0c3e_11ea_a3d2_251e7a12c5c3level0_row3\" class=\"row_heading level0 row3\" >3</th>\n",
       "                        <td id=\"T_2630dd36_0c3e_11ea_a3d2_251e7a12c5c3row3_col0\" class=\"data row3 col0\" >WestermostRough</td>\n",
       "                        <td id=\"T_2630dd36_0c3e_11ea_a3d2_251e7a12c5c3row3_col1\" class=\"data row3 col1\" >wmr</td>\n",
       "                        <td id=\"T_2630dd36_0c3e_11ea_a3d2_251e7a12c5c3row3_col2\" class=\"data row3 col2\" >Ørsted</td>\n",
       "                        <td id=\"T_2630dd36_0c3e_11ea_a3d2_251e7a12c5c3row3_col3\" class=\"data row3 col3\" >0.1512</td>\n",
       "                        <td id=\"T_2630dd36_0c3e_11ea_a3d2_251e7a12c5c3row3_col4\" class=\"data row3 col4\" >53.796</td>\n",
       "                        <td id=\"T_2630dd36_0c3e_11ea_a3d2_251e7a12c5c3row3_col5\" class=\"data row3 col5\" >1-Jan-2016</td>\n",
       "                        <td id=\"T_2630dd36_0c3e_11ea_a3d2_251e7a12c5c3row3_col6\" class=\"data row3 col6\" >31-Dec-2017</td>\n",
       "                        <td id=\"T_2630dd36_0c3e_11ea_a3d2_251e7a12c5c3row3_col7\" class=\"data row3 col7\" >210</td>\n",
       "                        <td id=\"T_2630dd36_0c3e_11ea_a3d2_251e7a12c5c3row3_col8\" class=\"data row3 col8\" >35</td>\n",
       "                        <td id=\"T_2630dd36_0c3e_11ea_a3d2_251e7a12c5c3row3_col9\" class=\"data row3 col9\" >SWT-6.0-154</td>\n",
       "                        <td id=\"T_2630dd36_0c3e_11ea_a3d2_251e7a12c5c3row3_col10\" class=\"data row3 col10\" >6</td>\n",
       "                        <td id=\"T_2630dd36_0c3e_11ea_a3d2_251e7a12c5c3row3_col11\" class=\"data row3 col11\" >154</td>\n",
       "                        <td id=\"T_2630dd36_0c3e_11ea_a3d2_251e7a12c5c3row3_col12\" class=\"data row3 col12\" >106</td>\n",
       "            </tr>\n",
       "            <tr>\n",
       "                        <th id=\"T_2630dd36_0c3e_11ea_a3d2_251e7a12c5c3level0_row4\" class=\"row_heading level0 row4\" >4</th>\n",
       "                        <td id=\"T_2630dd36_0c3e_11ea_a3d2_251e7a12c5c3row4_col0\" class=\"data row4 col0\" >Ormonde</td>\n",
       "                        <td id=\"T_2630dd36_0c3e_11ea_a3d2_251e7a12c5c3row4_col1\" class=\"data row4 col1\" >orm</td>\n",
       "                        <td id=\"T_2630dd36_0c3e_11ea_a3d2_251e7a12c5c3row4_col2\" class=\"data row4 col2\" >Vattenfall</td>\n",
       "                        <td id=\"T_2630dd36_0c3e_11ea_a3d2_251e7a12c5c3row4_col3\" class=\"data row4 col3\" >-3.444</td>\n",
       "                        <td id=\"T_2630dd36_0c3e_11ea_a3d2_251e7a12c5c3row4_col4\" class=\"data row4 col4\" >54.0873</td>\n",
       "                        <td id=\"T_2630dd36_0c3e_11ea_a3d2_251e7a12c5c3row4_col5\" class=\"data row4 col5\" >1-Jan-2012</td>\n",
       "                        <td id=\"T_2630dd36_0c3e_11ea_a3d2_251e7a12c5c3row4_col6\" class=\"data row4 col6\" >28-Feb-2019</td>\n",
       "                        <td id=\"T_2630dd36_0c3e_11ea_a3d2_251e7a12c5c3row4_col7\" class=\"data row4 col7\" >150</td>\n",
       "                        <td id=\"T_2630dd36_0c3e_11ea_a3d2_251e7a12c5c3row4_col8\" class=\"data row4 col8\" >30</td>\n",
       "                        <td id=\"T_2630dd36_0c3e_11ea_a3d2_251e7a12c5c3row4_col9\" class=\"data row4 col9\" >Repower-5.0-126</td>\n",
       "                        <td id=\"T_2630dd36_0c3e_11ea_a3d2_251e7a12c5c3row4_col10\" class=\"data row4 col10\" >5</td>\n",
       "                        <td id=\"T_2630dd36_0c3e_11ea_a3d2_251e7a12c5c3row4_col11\" class=\"data row4 col11\" >126</td>\n",
       "                        <td id=\"T_2630dd36_0c3e_11ea_a3d2_251e7a12c5c3row4_col12\" class=\"data row4 col12\" >100</td>\n",
       "            </tr>\n",
       "    </tbody></table>"
      ],
      "text/plain": [
       "<pandas.io.formats.style.Styler at 0x7fa2e8bfad30>"
      ]
     },
     "execution_count": 3,
     "metadata": {},
     "output_type": "execute_result"
    }
   ],
   "source": [
    "n_sites = 5 # number of submited simulations + 1 (ensemble)\n",
    "sites = pd.DataFrame(columns = ['Name','ID','Data Provider','LON', 'LAT','From','To','Ptot(MW)',\n",
    "                                'Nt','Turbine Type','P(MW)','D(m)','zhub(m)'],\n",
    "                     index = np.arange(0,n_sites,1))\n",
    "\n",
    "sites.loc[0]  = ['Anholt'          , 'anh', 'Ørsted'     , 11.2   , 56.6   , '1-Jan-2013', '30-Jun-2015', 399.6, 111, 'SWT-3.6-120'    , 3.6, 120., 82.]\n",
    "sites.loc[1]  = ['Dudgeon'         , 'dud', 'Equinor'    , 1.3816 , 53.2585, '1-Dec-2017', '30-Nov-2018', 402. , 67 , 'SWT-6.0-154'    , 6. , 154., 110.]\n",
    "sites.loc[2]  = ['Rodsand2'       , 'rod', 'EON'        , 11.4610, 54.573 , '1-Feb-2013', '30-Jun-2014', 207. , 90 , 'SWT-2.3-93'     , 2.3, 82.4, 68.5]\n",
    "sites.loc[3]  = ['WestermostRough', 'wmr', 'Ørsted'     , 0.1512 , 53.796 , '1-Jan-2016', '31-Dec-2017', 210. , 35 , 'SWT-6.0-154'    , 6. , 154., 106.]\n",
    "sites.loc[4]  = ['Ormonde'         , 'orm', 'Vattenfall' , -3.444 , 54.0873, '1-Jan-2012', '28-Feb-2019', 150. , 30 , 'Repower-5.0-126', 5. , 126., 100.]\n",
    "\n",
    "sites.style.set_properties(**{'text-align': 'center'})"
   ]
  },
  {
   "cell_type": "markdown",
   "metadata": {},
   "source": [
    "## Load metrics for all the sites"
   ]
  },
  {
   "cell_type": "code",
   "execution_count": 4,
   "metadata": {},
   "outputs": [],
   "source": [
    "bias = dict.fromkeys(sites['ID'])\n",
    "mae = dict.fromkeys(sites['ID'])\n",
    "for i in range(n_sites):\n",
    "    bias[sites['ID'][i]] = pd.read_csv('./' + sites[\"Name\"][i] + '/results/' + sites[\"ID\"][i]+ '_bias.csv',index_col = 0)\n",
    "    mae[sites['ID'][i]] = pd.read_csv('./' + sites[\"Name\"][i] + '/results/' + sites[\"ID\"][i]+ '_mae.csv',index_col = 0)    "
   ]
  },
  {
   "cell_type": "markdown",
   "metadata": {},
   "source": [
    "## Results"
   ]
  },
  {
   "cell_type": "code",
   "execution_count": 5,
   "metadata": {},
   "outputs": [],
   "source": [
    "# Select which simulations will be included in the plots for each site\n",
    "plotresults = dict.fromkeys(sites['ID'])\n",
    "\n",
    "# Only participants that submitted results for all the sites \n",
    "# Excluded simulations with ctrl-input when farm-farm effects are present\n",
    "plotresults['anh'] = [0,1,2,3,4,5,6,7,8,9,10,11,12,13,14,15]\n",
    "plotresults['dud'] = [0,1,2,3,4,7,9,10,11,12,13,14,15,16]\n",
    "plotresults['rod'] = [0,1,2,3,4,6,7,9,10,11,12,13,14,15,16,17,18,19]\n",
    "plotresults['wmr'] = [0,1,2,4,6,8,9,10,11,12,13,14,15]\n",
    "plotresults['orm'] = [0,1,2,3,4,6,8,9,10,11,12,13,14,15]\n",
    "\n",
    "# Common set of simulations for all the sites \n",
    "plotresults['anh'] = [0,1,2,3,4,5 ,6 ,8 ,11,12,13,14,15]\n",
    "plotresults['dud'] = [0,1,2,4,7,9 ,10,11,12,13,14,15,16]\n",
    "plotresults['rod'] = [0,1,2,3,7,10,12,14,15,16,17,18,19]\n",
    "plotresults['wmr'] = [0,1,2,4,6,8 ,9 ,10,11,12,13,14,15]\n",
    "plotresults['orm'] = [0,1,2,4,6,8 ,9 ,10,11,12,13,14,15]\n",
    "\n",
    "# Create a single dataframe with all the results \n",
    "for site in sites['ID']:\n",
    "    bias[site]['site'] = site  # add a column with the site ID to be able to filter the results by site \n",
    "    mae[site]['site'] = site  # add a column with the site ID to be able to filter the results by site \n",
    "\n",
    "bias_df = pd.concat([bias[site].iloc[plotresults[site]] for site in sites['ID']], axis = 0)\n",
    "mae_df = pd.concat([mae[site].iloc[plotresults[site]] for site in sites['ID']], axis = 0)"
   ]
  },
  {
   "cell_type": "code",
   "execution_count": 6,
   "metadata": {},
   "outputs": [
    {
     "data": {
      "text/plain": [
       "Text(0.5, 1.0, 'MAE = |$\\\\eta_{bench}-\\\\eta_{sim}$|')"
      ]
     },
     "execution_count": 6,
     "metadata": {},
     "output_type": "execute_result"
    },
    {
     "data": {
      "image/png": "[encoded data removed]",
      "text/plain": [
       "<Figure size 864x288 with 2 Axes>"
      ]
     },
     "metadata": {},
     "output_type": "display_data"
    }
   ],
   "source": [
    "sns.set(style=\"whitegrid\", palette=\"Set3\")\n",
    "\n",
    "# Overall results\n",
    "plt.figure(figsize=(12, 4))    \n",
    "ax1 = plt.subplot(1, 2, 1)\n",
    "ax1 = sns.boxplot(x='site', y='BIAS[%]', data = bias_df)\n",
    "#ax1 = sns.swarmplot(x='site', y='BIAS[%]', data = bias_df, color=\".25\")\n",
    "ax1.set_title('BIAS = $\\eta_{bench}-\\eta_{sim}$')\n",
    "ax2 = plt.subplot(1, 2, 2)\n",
    "ax2 = sns.boxplot(x='site', y='MAE[%]', data = mae_df)\n",
    "#ax2 = sns.swarmplot(x='site', y='MAE[%]', data = mae_df, color=\".25\")\n",
    "ax2.set_title('MAE = |$\\eta_{bench}-\\eta_{sim}$|')"
   ]
  },
  {
   "cell_type": "code",
   "execution_count": 7,
   "metadata": {},
   "outputs": [
    {
     "data": {
      "text/plain": [
       "Text(0.5, 1.0, 'MAE = |$\\\\eta_{bench}-\\\\eta_{sim}$|')"
      ]
     },
     "execution_count": 7,
     "metadata": {},
     "output_type": "execute_result"
    },
    {
     "data": {
      "image/png": "[encoded data removed]",
      "text/plain": [
       "<Figure size 864x288 with 2 Axes>"
      ]
     },
     "metadata": {},
     "output_type": "display_data"
    }
   ],
   "source": [
    "# Results by stability\n",
    "cols = bias_df.columns.values\n",
    "u = np.arange(10,46,3) # index to unstable \n",
    "n = np.arange(11,46,3) # index to neutral\n",
    "s = np.arange(12,46,3) # index to stable\n",
    "\n",
    "bias_u = bias_df[['ID', 'site']].copy()\n",
    "bias_u['BIAS[%]'] = bias_df[cols[u]].mean(axis = 1)\n",
    "bias_u['stability'] = 'u'\n",
    "bias_n = bias_df[['ID', 'site']].copy()\n",
    "bias_n['BIAS[%]'] = bias_df[cols[n]].mean(axis = 1)\n",
    "bias_n['stability'] = 'n'\n",
    "bias_s = bias_df[['ID', 'site']].copy()\n",
    "bias_s['BIAS[%]'] = bias_df[cols[s]].mean(axis = 1)\n",
    "bias_s['stability'] = 's'\n",
    "bias_stab = pd.concat([bias_u,bias_n,bias_s], axis = 0)\n",
    "\n",
    "mae_u = mae_df[['ID', 'site']].copy()\n",
    "mae_u['MAE[%]'] = mae_df[cols[u]].mean(axis = 1)\n",
    "mae_u['stability'] = 'u'\n",
    "mae_n = mae_df[['ID', 'site']].copy()\n",
    "mae_n['MAE[%]'] = mae_df[cols[n]].mean(axis = 1)\n",
    "mae_n['stability'] = 'n'\n",
    "mae_s = mae_df[['ID', 'site']].copy()\n",
    "mae_s['MAE[%]'] = mae_df[cols[s]].mean(axis = 1)\n",
    "mae_s['stability'] = 's'\n",
    "mae_stab = pd.concat([mae_u,mae_n,mae_s], axis = 0)\n",
    "\n",
    "# Overall results\n",
    "plt.figure(figsize=(12, 4))    \n",
    "ax1 = plt.subplot(1, 2, 1)\n",
    "ax1 = sns.boxplot(x='site', y='BIAS[%]', hue = 'stability', data = bias_stab, palette = 'bwr')\n",
    "ax1.set_title('BIAS = $\\eta_{bench}-\\eta_{sim}$')\n",
    "ax2 = plt.subplot(1, 2, 2)\n",
    "ax2 = sns.boxplot(x='site', y='MAE[%]', hue = 'stability', data = mae_stab, palette = 'bwr')\n",
    "ax2.set_title('MAE = |$\\eta_{bench}-\\eta_{sim}$|')"
   ]
  },
  {
   "cell_type": "code",
   "execution_count": null,
   "metadata": {},
   "outputs": [],
   "source": []
  },
  {
   "cell_type": "code",
   "execution_count": null,
   "metadata": {},
   "outputs": [],
   "source": []
  }
 ],
 "metadata": {
  "kernelspec": {
   "display_name": "Python 3",
   "language": "python",
   "name": "python3"
  },
  "language_info": {
   "codemirror_mode": {
    "name": "ipython",
    "version": 3
   },
   "file_extension": ".py",
   "mimetype": "text/x-python",
   "name": "python",
   "nbconvert_exporter": "python",
   "pygments_lexer": "ipython3",
   "version": "3.7.2"
  }
 },
 "nbformat": 4,
 "nbformat_minor": 2
}
