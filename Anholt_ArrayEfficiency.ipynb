{
 "cells": [
  {
   "cell_type": "markdown",
   "metadata": {},
   "source": [
    "# OWA Anholt Array Efficiency: Benchmark Evaluation Script\n",
    "*Javier Sanz Rodrigo, Fernando Borbón, Pedro Miguel Fernandes Correia, Pawel Gancarski (CENER)* \n",
    "\n",
    "*February 2019*\n",
    "\n",
    "## Introduction\n",
    "This is the model evaluation script for the [OWA-Anholt Array Efficiency benchmark](https://thewindvaneblog.com/the-owa-anholt-array-efficiency-benchmark-436fc538597d) as part of the [OWA Wake Modeling Challenge](https://www.carbontrust.com/media/677495/owa-wake-modelling-challenge_final-feb27.pdf).\n",
    "\n"
   ]
  },
  {
   "cell_type": "markdown",
   "metadata": {},
   "source": [
    "## Simulations\n",
    "The following models participate in the benchmark.\n",
    "\n",
    "**Table 1. Participating models.**\n",
    "\n",
    "| simID | Model | Type | Remarks |  \n",
    "|:----:|:-----:|:----------:|:--------:|\n",
    "| anh01 | XXX | time series  | - | \n",
    "| anh02 | XXX | time series  | - | \n",
    "| anh03 | XXX | time series  | - | \n",
    "| anh04 | XXX | time series  | - | \n",
    "| anh05 | XXX | time series  | - | \n",
    "| anh06 | XXX | time series  | - | \n",
    "| anh07 | XXX | bin averages | - | "
   ]
  },
  {
   "cell_type": "code",
   "execution_count": null,
   "metadata": {},
   "outputs": [],
   "source": [
    "sim_id =    ['anh01','anh03','anh04','anh05','anh06','anh07']\n",
    "sim_model = ['ENG'  ,'RANS' ,'LES'  ,'RANS' ,'XXX'  ,'XXX'  ]\n",
    "sim_type =  ['ts'   ,'ts'   ,'ts'   ,'ts'   ,'ts'   ,'ba'   ]"
   ]
  },
  {
   "cell_type": "markdown",
   "metadata": {},
   "source": [
    "## Load libraries"
   ]
  },
  {
   "cell_type": "code",
   "execution_count": null,
   "metadata": {},
   "outputs": [],
   "source": [
    "%matplotlib inline\n",
    "from src.WindConditions import *\n",
    "from src.BinAvrg import *  \n",
    "from scipy import interpolate"
   ]
  },
  {
   "cell_type": "markdown",
   "metadata": {},
   "source": [
    "## Wind farm input data \n",
    "The scada_flags dataframe indicates which timestamps have been filtered out in the quality-control process of the SCADA data. This allows to perform the evaluation on validation dataset which only contains situations where the wind farm is operating in normal conditions."
   ]
  },
  {
   "cell_type": "code",
   "execution_count": null,
   "metadata": {},
   "outputs": [],
   "source": [
    "# setup\n",
    "datefrom = time_stamp(2013,1,1,0,0,0)    # evaluation period\n",
    "dateto = time_stamp(2015,6,30,23,0,0)    # evaluation period\n",
    "\n",
    "siteID = 'Anholt'\n",
    "Hhub = 81.6         # hub-height\n",
    "Drot = 120          # rotor diameter\n",
    "lat_ref = 56.6      # degrees N \n",
    "lon_ref = 11.2      # degrees E\n",
    "\n",
    "# Load manufacturer's power curve \n",
    "pwr_curve_file = pd.read_csv('./inputs/Anholt_pwc.csv', sep = ';')\n",
    "pwr_curve_file['power'] = pwr_curve_file['power']/1000 # scale to MW\n",
    "pwr_curve = interpolate.interp1d(pwr_curve_file['U'].values.flatten(),pwr_curve_file['power'].values.flatten(), \n",
    "                                bounds_error = False, fill_value = 0)\n",
    "# when converting power to speed use the rev_pwr_curve\n",
    "###rev_pwr_curve = interpolate.interp1d(pwr_curve_file['power'].values.flatten(),pwr_curve_file['U'].values.flatten())\n",
    "\n",
    "# Load wind farm layout data\n",
    "turbines = pd.read_csv(\"inputs/Anholt_layout.csv\")\n",
    "plot_wf_layout(turbines['X coordinate'], turbines['Y coordinate'],labels = turbines['VDC ID'])"
   ]
  },
  {
   "cell_type": "markdown",
   "metadata": {},
   "source": [
    "## Read data availability flags\n",
    "This file is provided to the participants so they can compute their bin-averages using the same timestamps of the validation data.\n",
    "\n",
    "$min\\_data\\_availability$ sets the minimum availability of observational data (for 90%, no more than 10% is reconstructed)\n",
    "\n",
    "$scada\\_ts$ list of time stamps that can be analysed"
   ]
  },
  {
   "cell_type": "code",
   "execution_count": null,
   "metadata": {},
   "outputs": [],
   "source": [
    "scada_flags = pd.read_csv('./inputs/obs_flags.csv', index_col = 'time') \n",
    "min_data_availability = 90 # minimum data availability in %\n",
    "scada_ts = flags_to_ts(scada_flags, min_data_availability) # generate a list of accepted time series"
   ]
  },
  {
   "cell_type": "markdown",
   "metadata": {},
   "source": [
    "## Wind conditions from mesoscale input data\n",
    "In the absence of an *undisturbed* met mast, the wind farm centroid is used as reference site to define wind conditions and classify the wind climate in terms of wind direction sectors and stability classes. This site has also been used as the center of the innermost domain in the WRF set-up."
   ]
  },
  {
   "cell_type": "code",
   "execution_count": null,
   "metadata": {},
   "outputs": [],
   "source": [
    "# Define bins to classify wind conditions \n",
    "Sbins = np.array([8,10])              # around the maximum of the trust coefficient \n",
    "WDbins = np.arange(-15.,360.+15.,30)  # wind direction bins (12 sectors)\n",
    "WDbins_label = ['N','NNE','ENE','E','ESE','SSE',\n",
    "                'S','SSW','WSW','W','WNW','NNW']\n",
    "zLbins = [-0.2,-0.02, 0.02, 0.2]      # 3 stability bins\n",
    "zLbins_label = ['u','n','s']\n",
    "\n",
    "# interpolate to reference height\n",
    "zref = Hhub         # [m]\n",
    "\n",
    "# Load mesoscale data from the referent site (time-height profiles)\n",
    "mast = WindConditions('./inputs/Anholt_Lav30km_ref.nc',lat_ref, lon_ref, siteID, datefrom, dateto)\n",
    "\n",
    "#init the bin averaging class\n",
    "bin_avrg = BinAvrg(siteID,datefrom, dateto, WDbins, WDbins_label, zLbins, zLbins_label,turbines['VDC ID'],sim_id)\n",
    "\n",
    "#filter out speed restrictions\n",
    "scada_ts = bin_avrg.filter_s(mast, zref, scada_ts, Sbins)\n",
    "\n",
    "# Compute and plot distributions \n",
    "N_WDzL_all,_,_,_,_ = mast.plot_stability(WDbins,WDbins_label,zLbins,zLbins_label,zref)\n",
    "\n",
    "# after filtering\n",
    "mast.reduce_to_ts(scada_ts)\n",
    "N_WDzL_speed,_,_,_,_ = mast.plot_stability(WDbins,WDbins_label,zLbins,zLbins_label,zref)"
   ]
  },
  {
   "cell_type": "markdown",
   "metadata": {},
   "source": [
    "Effect of wind speed restriction on sample size "
   ]
  },
  {
   "cell_type": "code",
   "execution_count": null,
   "metadata": {},
   "outputs": [],
   "source": [
    "print(N_WDzL_all.sum().sum())\n",
    "print(N_WDzL_speed.sum().sum())"
   ]
  },
  {
   "cell_type": "markdown",
   "metadata": {},
   "source": [
    "Apply power curve to mesoscale data"
   ]
  },
  {
   "cell_type": "code",
   "execution_count": null,
   "metadata": {},
   "outputs": [],
   "source": [
    "# Load mesoscale data at turbine positions (time-series at hub-height)\n",
    "f = netCDF4.Dataset('./inputs/Anholt_WindTurbines.nc', 'r')\n",
    "meso_ts_windspeed = pd.DataFrame(\n",
    "            (f.variables['U'][:].data**2 + f.variables['V'][:].data**2)**0.5, \n",
    "            index = f.variables['Times'][:].data)\n",
    "meso_ts_windspeed = restrict_to_ts(meso_ts_windspeed, scada_ts)\n",
    "\n",
    "meso_ts = meso_ts_windspeed.transform(pwr_curve) # convert to power"
   ]
  },
  {
   "cell_type": "markdown",
   "metadata": {},
   "source": [
    "Create mapping of time stamps per wind direction and stability bins"
   ]
  },
  {
   "cell_type": "code",
   "execution_count": null,
   "metadata": {},
   "outputs": [],
   "source": [
    "#create mapping\n",
    "ts_bin_map = bin_avrg.create_ts_to_bin_map(mast, zref, scada_ts)\n",
    "\n",
    "# Compute bin-averaged (and std) quantities\n",
    "meso_p, meso_p_std = bin_avrg.compute_mean(meso_ts, ts_bin_map)"
   ]
  },
  {
   "cell_type": "markdown",
   "metadata": {},
   "source": [
    "## Load simulation data"
   ]
  },
  {
   "cell_type": "code",
   "execution_count": null,
   "metadata": {},
   "outputs": [],
   "source": [
    "# Loop through the submitted simulation data files and categorize them according to Table 1\n",
    "n_sim = len(sim_id)\n",
    "sim_ts = []\n",
    "sim_P = bin_avrg.array_init(('sim', 'wt','wd','zL'))\n",
    "sim_P_std = bin_avrg.array_init(('sim', 'wt','wd','zL'))\n",
    "\n",
    "for isim in range(0,n_sim):\n",
    "    file_name = './outputs/'+ sim_id[isim] +'.csv'\n",
    "    ts = p = p_std = None\n",
    "    if sim_type[isim] == 'ts': \n",
    "        ts = pd.read_csv(file_name, index_col = 'time')  # read .csv output files\n",
    "        p, p_std = bin_avrg.compute_mean(ts, ts_bin_map)   # from time-series to bin-averaged quantities\n",
    "        # clean up the time series data and apply the scada_ts filter\n",
    "        ts = restrict_to_ts(ts, scada_ts)\n",
    "    else:\n",
    "        p = bin_avrg.read_ba_file(file_name)\n",
    "    sim_ts.append(ts)\n",
    "    sim_P[isim] = p\n",
    "    sim_P_std[isim] = p_std\n",
    "    \n",
    "# where sim[isim] is a 3D array: \n",
    "# Turbine # weind direction bin # stability bin  "
   ]
  },
  {
   "cell_type": "markdown",
   "metadata": {},
   "source": [
    "## Load validation data\n",
    "To increase the data availability, a machine learning algorithm has been applied to recover data from turbines that are not working in nominal conditions from others that do."
   ]
  },
  {
   "cell_type": "code",
   "execution_count": null,
   "metadata": {},
   "outputs": [],
   "source": [
    "try:\n",
    "    ts_obs = pd.read_csv('./observations/obs.csv', index_col = 'time') \n",
    "    p_obs, p_obs_std = bin_avrg.compute_mean(ts_obs, ts_bin_map)  \n",
    "    # clean up the time series data and apply the scada_ts filter\n",
    "    ts_obs = restrict_to_ts(ts_obs, scada_ts)\n",
    "    val_data = True\n",
    "except IOError:\n",
    "    print (\"No validation data available\")\n",
    "    val_data = False"
   ]
  },
  {
   "cell_type": "markdown",
   "metadata": {},
   "source": [
    "If no validation data is available, do code to code comparison"
   ]
  },
  {
   "cell_type": "code",
   "execution_count": null,
   "metadata": {},
   "outputs": [],
   "source": [
    "ref_sim = 0\n",
    "\n",
    "if val_data:\n",
    "    p_ref = p_obs\n",
    "    p_ref_std = p_obs_std\n",
    "else: \n",
    "    p_ref = sim_P[ref_sim]\n",
    "    p_ref_std = sim_P_std[ref_sim]"
   ]
  },
  {
   "cell_type": "markdown",
   "metadata": {},
   "source": [
    "## Compute quantities of interest and metrics\n",
    "The *array efficiency* is defined based on the background wind speed at each turbine position:\n",
    "\n",
    "$$ \\eta = \\frac{\\sum_{i}P_i}{\\sum_{i}P(S_i)} $$\n",
    "\n",
    "where $P_i$ is the power of turbine $i$, observed or simulated, and $P(S_i)$ is the theoretical power from the manufaturer's power curve computed at the background (mesoscale) wind speed $S_i$ at each turbine position.  \n",
    "\n",
    "Performance is measured in terms of the BIAS:\n",
    "\n",
    "$$ BIAS = \\eta_{obs} - \\eta_{sim} $$ \n",
    "\n",
    "for each bin and for the whole wind distribution."
   ]
  },
  {
   "cell_type": "code",
   "execution_count": null,
   "metadata": {},
   "outputs": [],
   "source": [
    "#init the arrays\n",
    "eta_sim = bin_avrg.array_init(('sim', 'wd','zL'))\n",
    "bias = bin_avrg.array_init(('sim', 'wd','zL'))\n",
    "dif_std = bin_avrg.array_init(('sim', 'wd','zL'))\n",
    "bias_tot = bin_avrg.array_init(('sim',))\n",
    "mean_abs_error = bin_avrg.array_init(('sim',))\n",
    "len_array = np.vectorize(len)\n",
    "bin_sizes = len_array(ts_bin_map)\n",
    "sum_bin_sizes = bin_sizes.sum()\n",
    "meso_p_sum = np.sum(meso_p,axis=0) \n",
    "\n",
    "#compute variables of interest\n",
    "eta_ref = np.sum(p_ref,axis=0) / meso_p_sum * 100 # axis=0 are turbines\n",
    "\n",
    "dif_std_ref = np.mean(p_ref_std - meso_p_std,axis=0)\n",
    "for isim in range(n_sim):\n",
    "    eta_sim[isim] = np.sum(sim_P[isim],axis=0) / meso_p_sum * 100\n",
    "    bias[isim] = eta_ref - eta_sim[isim]\n",
    "    if sim_P_std[isim] is not None:\n",
    "        dif_std[isim] = np.mean(sim_P_std[isim] - p_ref_std,axis=0)\n",
    "\n",
    "    bias_tot[isim] = (bias[isim]*bin_sizes).sum()/sum_bin_sizes\n",
    "    mean_abs_error[isim] = (np.absolute(bias[isim])*bin_sizes).sum()/sum_bin_sizes"
   ]
  },
  {
   "cell_type": "markdown",
   "metadata": {},
   "source": [
    "## Plot results"
   ]
  },
  {
   "cell_type": "markdown",
   "metadata": {},
   "source": [
    "Plot $\\eta_{sim}$ and associated $BIAS$ versus wind direcction and stability bins"
   ]
  },
  {
   "cell_type": "code",
   "execution_count": null,
   "metadata": {},
   "outputs": [],
   "source": [
    "figcaption = \"**Fig 2. BIAS**\"\n",
    "title = \"_BIAS[%]\"\n",
    "bin_avrg.plot_heatmaps(bias, sub_plt_size = (1.7,4),n_plot_cols = 6, \n",
    "                       figcaption = figcaption, title=title)"
   ]
  },
  {
   "cell_type": "markdown",
   "metadata": {},
   "source": [
    "Compute stability related bias"
   ]
  },
  {
   "cell_type": "code",
   "execution_count": null,
   "metadata": {},
   "outputs": [],
   "source": [
    "(np.sum(bias,axis=1)/len(WDbins)).to_pandas()"
   ]
  },
  {
   "cell_type": "markdown",
   "metadata": {},
   "source": [
    "Compute efficiency and bias for each turbine"
   ]
  },
  {
   "cell_type": "code",
   "execution_count": null,
   "metadata": {},
   "outputs": [],
   "source": [
    "wt_eta_sim = bin_avrg.array_init(('sim', 'wt','wd','zL'))\n",
    "wt_bias = bin_avrg.array_init(('sim', 'wt','wd','zL'))\n",
    "\n",
    "wt_eta_ref = p_ref / meso_p * 100\n",
    "wt_eta_ref_max = (p_ref+p_ref_std/2) / meso_p * 100\n",
    "\n",
    "for isim in range(n_sim):\n",
    "    wt_eta_sim[isim] = sim_P[isim] / meso_p * 100\n",
    "    wt_bias[isim] = wt_eta_ref - wt_eta_sim[isim]"
   ]
  },
  {
   "cell_type": "markdown",
   "metadata": {},
   "source": [
    "Plot a transect, for chosen bin and wind turbines list"
   ]
  },
  {
   "cell_type": "code",
   "execution_count": null,
   "metadata": {},
   "outputs": [],
   "source": [
    "# Transect: Choose bin (WD,zL), define list of turbines and plot profiles of array efficiency along the transect of turbines. \n",
    "#           Normalized by dividing with eta of the first turbine in the list\n",
    "#           Use error bars showind one std about the observed array efficiency (eta_obs_std)\n",
    "\n",
    "#for list of turbines and wd, 2D plot Value per distance in rotor diameter. \n",
    "data =   wt_eta_sim.loc[:,:,'NNW','u'].to_pandas()\n",
    "ref_data = wt_eta_ref.loc[:,'NNW','u'].to_pandas()\n",
    "ref_data_max = wt_eta_ref_max.loc[:,'NNW','n'].to_pandas()\n",
    "\n",
    "#from P28 to P19 \n",
    "wt_list = ['ANHP'+str(28-i) for i in range(10)]\n",
    "\n",
    "plot_transect(data,ref_data,wt_list,turbines,Drot)"
   ]
  },
  {
   "cell_type": "code",
   "execution_count": null,
   "metadata": {},
   "outputs": [],
   "source": [
    "data = wt_eta_sim.loc['anh05',:,'SSE','u'].to_pandas()\n",
    "plot_wf_layout(turbines['X coordinate'], turbines['Y coordinate'],data = data,vmin=40, vmax=120)"
   ]
  },
  {
   "cell_type": "code",
   "execution_count": null,
   "metadata": {},
   "outputs": [],
   "source": [
    "data = wt_bias.loc['anh05',:,'SSE','u'].to_pandas()\n",
    "plot_wf_layout(turbines['X coordinate'], turbines['Y coordinate'],data = data)"
   ]
  },
  {
   "cell_type": "code",
   "execution_count": null,
   "metadata": {},
   "outputs": [],
   "source": []
  }
 ],
 "metadata": {
  "kernelspec": {
   "display_name": "Python 3",
   "language": "python",
   "name": "python3"
  },
  "language_info": {
   "codemirror_mode": {
    "name": "ipython",
    "version": 3
   },
   "file_extension": ".py",
   "mimetype": "text/x-python",
   "name": "python",
   "nbconvert_exporter": "python",
   "pygments_lexer": "ipython3",
   "version": "3.6.4"
  }
 },
 "nbformat": 4,
 "nbformat_minor": 2
}
