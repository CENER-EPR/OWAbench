{
 "cells": [
  {
   "cell_type": "markdown",
   "metadata": {},
   "source": [
    "# OWA Dudgeon Benchmark: Input data\n",
    "\n",
    "\n",
    "## WRF Mesoscale Simulation\n",
    "The mesoscale simulation has been produced adopting most of the WRF settings that has been used to produce the production run of the New European Wind Atlas (NEWA). Three one-way nested domains of 27, 9 and 3 km resolution are configured centred at the wind farm centroid (56.6ºN; 11.2ºE). The vertical grid has 61 terrain-following (sigma) levels, with 10 levels covering the first 200 meters, more specifically at: 6, 22, 40, 56, 73, 90, 113, 140, 179 and 205 meters. High resolution topography (SRTM 90m) and updated land use categories (Corine Land Cover 2018), together with the Noah land-surface model are used to define the boundary conditions at the surface. The physical parameterizations are: Mellor–Yamada–Nakanishi Niino 2.5-level planetary boundary-layer scheme (MYNN), WRF Single-Moment 5-class microphysics scheme, the Rapid Radiative Transfer Model for GCMs shortwave and longwave radiation schemes and the Kain-Fritsch cumulus scheme in the outermost domains 1 and 2. The simulation is driven by input data from ERA-5 in blocks of 5 days with additional spin-up time of 24 hours.    "
   ]
  },
  {
   "cell_type": "markdown",
   "metadata": {},
   "source": [
    "## Load libraries and constants"
   ]
  },
  {
   "cell_type": "code",
   "execution_count": 1,
   "metadata": {},
   "outputs": [],
   "source": [
    "%matplotlib inline\n",
    "import sys\n",
    "sys.path.append('../')\n",
    "\n",
    "from src.WindConditions import *"
   ]
  },
  {
   "cell_type": "markdown",
   "metadata": {},
   "source": [
    "## Reference site \n",
    "In the absence of an *undisturbed* met mast, the wind farm centroid is used as reference site to define wind conditions and classify the wind climate in terms of wind direction sectors and stability classes. This site has also been used as the center of the innermost domain in the WRF set-up.   "
   ]
  },
  {
   "cell_type": "code",
   "execution_count": 2,
   "metadata": {},
   "outputs": [],
   "source": [
    "siteID = 'Ormonde'\n",
    "Hhub = 100         # hub-height\n",
    "Drot = 126          # rotor diameter\n",
    "lat_ref = 54.0873      # degrees N \n",
    "lon_ref = -3.444      # degrees E\n",
    "zref = Hhub         # [m] "
   ]
  },
  {
   "cell_type": "markdown",
   "metadata": {},
   "source": [
    "## Evaluation period \n",
    "The evaluation period shall correspond to the span of the SCADA data. The evaluation will be based on hourly data, which is the sampling time of the mesoscale simulations. With hourly data we guarantee that all wind turbines are experiencing slow-varying wind conditions, i.e. there is sufficient time for mesoscale variability to be advected accross the wind farm (it takes one hour for air traveling at 7,5 m/s to cover 27 km). \n",
    "The *flags* dataframe indicates which timestamps have been filtered out in the quality-control process of the SCADA data. This will allow to perform the evaluation on validation dataset which only contains situations where the wind farm is operating in normal conditions.  "
   ]
  },
  {
   "cell_type": "code",
   "execution_count": 6,
   "metadata": {},
   "outputs": [
    {
     "data": {
      "text/plain": [
       "7.164383561643835"
      ]
     },
     "execution_count": 6,
     "metadata": {},
     "output_type": "execute_result"
    }
   ],
   "source": [
    "datefrom = time_stamp(2012,1,1,0,0,0)    # evaluation period\n",
    "dateto = time_stamp(2019,2,28,23,0,0)    # evaluation period"
   ]
  },
  {
   "cell_type": "markdown",
   "metadata": {},
   "source": [
    "## Load horizontaly averaged vertical profiles at the reference site\n",
    "An area of 27x27 km² centered at the reference site has been used to produce horizontaly averaged vertical profiles that are representative of the vertical structure of the atmospheric boundary layer (ABL) accross the wind farm. Surface-layer quantities and mesoscale tendencies are also provided to define a set of boundary conditions and forcings for microscale models that assume horizontally-homogeneous inflow conditions.  "
   ]
  },
  {
   "cell_type": "code",
   "execution_count": 4,
   "metadata": {},
   "outputs": [
    {
     "ename": "FileNotFoundError",
     "evalue": "[Errno 2] No such file or directory: b'./inputs/Ormonde_Control_Lav30km_ref.nc'",
     "output_type": "error",
     "traceback": [
      "\u001b[0;31m---------------------------------------------------------------------------\u001b[0m",
      "\u001b[0;31mFileNotFoundError\u001b[0m                         Traceback (most recent call last)",
      "\u001b[0;32m<ipython-input-4-be33783336b0>\u001b[0m in \u001b[0;36m<module>\u001b[0;34m\u001b[0m\n\u001b[0;32m----> 1\u001b[0;31m \u001b[0mmast\u001b[0m \u001b[0;34m=\u001b[0m \u001b[0mWindConditions\u001b[0m\u001b[0;34m(\u001b[0m\u001b[0;34m'./inputs/Ormonde_Control_Lav30km_ref.nc'\u001b[0m\u001b[0;34m,\u001b[0m\u001b[0mlat_ref\u001b[0m\u001b[0;34m,\u001b[0m \u001b[0mlon_ref\u001b[0m\u001b[0;34m,\u001b[0m \u001b[0msiteID\u001b[0m\u001b[0;34m,\u001b[0m \u001b[0mdatefrom\u001b[0m\u001b[0;34m,\u001b[0m \u001b[0mdateto\u001b[0m\u001b[0;34m)\u001b[0m\u001b[0;34m\u001b[0m\u001b[0;34m\u001b[0m\u001b[0m\n\u001b[0m",
      "\u001b[0;32m~/work/Anholt/github/OWAbench_private/src/WindConditions.py\u001b[0m in \u001b[0;36m__init__\u001b[0;34m(self, filetend, latitude, longitude, siteID, datefrom, dateto)\u001b[0m\n\u001b[1;32m     54\u001b[0m \u001b[0;34m\u001b[0m\u001b[0m\n\u001b[1;32m     55\u001b[0m \u001b[0;34m\u001b[0m\u001b[0m\n\u001b[0;32m---> 56\u001b[0;31m         \u001b[0mself\u001b[0m\u001b[0;34m.\u001b[0m\u001b[0m__read_inputs\u001b[0m\u001b[0;34m(\u001b[0m\u001b[0mfiletend\u001b[0m\u001b[0;34m,\u001b[0m \u001b[0mdatefrom\u001b[0m\u001b[0;34m,\u001b[0m \u001b[0mdateto\u001b[0m\u001b[0;34m)\u001b[0m\u001b[0;34m\u001b[0m\u001b[0;34m\u001b[0m\u001b[0m\n\u001b[0m\u001b[1;32m     57\u001b[0m \u001b[0;34m\u001b[0m\u001b[0m\n\u001b[1;32m     58\u001b[0m \u001b[0;34m\u001b[0m\u001b[0m\n",
      "\u001b[0;32m~/work/Anholt/github/OWAbench_private/src/WindConditions.py\u001b[0m in \u001b[0;36m__read_inputs\u001b[0;34m(self, filetend, datefrom, dateto)\u001b[0m\n\u001b[1;32m     58\u001b[0m \u001b[0;34m\u001b[0m\u001b[0m\n\u001b[1;32m     59\u001b[0m     \u001b[0;32mdef\u001b[0m \u001b[0m__read_inputs\u001b[0m\u001b[0;34m(\u001b[0m\u001b[0mself\u001b[0m\u001b[0;34m,\u001b[0m\u001b[0mfiletend\u001b[0m\u001b[0;34m,\u001b[0m \u001b[0mdatefrom\u001b[0m\u001b[0;34m,\u001b[0m \u001b[0mdateto\u001b[0m\u001b[0;34m)\u001b[0m\u001b[0;34m:\u001b[0m\u001b[0;34m\u001b[0m\u001b[0;34m\u001b[0m\u001b[0m\n\u001b[0;32m---> 60\u001b[0;31m         \u001b[0mf\u001b[0m \u001b[0;34m=\u001b[0m \u001b[0mnetCDF4\u001b[0m\u001b[0;34m.\u001b[0m\u001b[0mDataset\u001b[0m\u001b[0;34m(\u001b[0m\u001b[0mfiletend\u001b[0m\u001b[0;34m,\u001b[0m \u001b[0;34m'r'\u001b[0m\u001b[0;34m)\u001b[0m\u001b[0;34m\u001b[0m\u001b[0;34m\u001b[0m\u001b[0m\n\u001b[0m\u001b[1;32m     61\u001b[0m \u001b[0;34m\u001b[0m\u001b[0m\n\u001b[1;32m     62\u001b[0m \u001b[0;34m\u001b[0m\u001b[0m\n",
      "\u001b[0;32mnetCDF4/_netCDF4.pyx\u001b[0m in \u001b[0;36mnetCDF4._netCDF4.Dataset.__init__\u001b[0;34m()\u001b[0m\n",
      "\u001b[0;32mnetCDF4/_netCDF4.pyx\u001b[0m in \u001b[0;36mnetCDF4._netCDF4._ensure_nc_success\u001b[0;34m()\u001b[0m\n",
      "\u001b[0;31mFileNotFoundError\u001b[0m: [Errno 2] No such file or directory: b'./inputs/Ormonde_Control_Lav30km_ref.nc'"
     ]
    }
   ],
   "source": [
    "mast = WindConditions('./inputs/Ormonde_Control_Lav30km_ref.nc',lat_ref, lon_ref, siteID, datefrom, dateto)"
   ]
  },
  {
   "cell_type": "markdown",
   "metadata": {},
   "source": [
    "### Time series\n",
    "Select a period to plot time series of reference quantities.  "
   ]
  },
  {
   "cell_type": "code",
   "execution_count": null,
   "metadata": {},
   "outputs": [],
   "source": [
    "# Select a period\n",
    "datefromplot = time_stamp(2016,6,30,0,0,0)\n",
    "datetoplot = time_stamp(2016,7,2,23,50,0)\n",
    "\n",
    "mast.plot_timeseries(datefromplot,datetoplot,zref)"
   ]
  },
  {
   "cell_type": "markdown",
   "metadata": {},
   "source": [
    "### Time-height contours\n",
    "The structure of the ABL can be visualized here in terms of velocity components and momentum tendencies. As a reference, we indicate the vertical span of the wind turbine rotor and plot in log scale to have a clearer view of the whole ABL depth extending from a few hundred meters in stable conditions to around a thousand meters in unstable conditions. "
   ]
  },
  {
   "cell_type": "code",
   "execution_count": null,
   "metadata": {},
   "outputs": [],
   "source": [
    "# Same period as it was defined for the time series\n",
    "yrotor1 = np.array([Hhub - 0.5*Drot, Hhub - 0.5*Drot])\n",
    "yrotor2 = np.array([Hhub + 0.5*Drot, Hhub + 0.5*Drot])\n",
    "zlim = 4000.0   # top height of the plot\n",
    "\n",
    "mast.plot_ABL(datefromplot,datetoplot,zlim,yrotor1,yrotor2)"
   ]
  },
  {
   "cell_type": "markdown",
   "metadata": {},
   "source": [
    "### Wind Climate Distributions\n",
    "Distributions in terms of wind speed, direction and stability bins. "
   ]
  },
  {
   "cell_type": "code",
   "execution_count": null,
   "metadata": {},
   "outputs": [],
   "source": [
    "mast.plot_windrose(zref)"
   ]
  },
  {
   "cell_type": "code",
   "execution_count": null,
   "metadata": {
    "scrolled": true
   },
   "outputs": [],
   "source": [
    "#WDbins = np.arange(-11.25,360.+11.25,22.5) # wind direction bins (16 sectors)\n",
    "#WDbins_label = ['N','NNE','NE','ENE','E','ESE','SE','SSE',\n",
    "#                'S','SSW','SW','WSW','W','WNW','NW','NNW']\n",
    "#zLbins = [-20,-2, -0.6, -0.2, -0.02, 0.02, 0.2, 0.6, 2, 20] # 9 stability bins\n",
    "#zLbins_label = ['xu','vu','u','wu','n','ws','s','vs','xs']\n",
    "\n",
    "WDbins = np.arange(-15.,360.+15.,30) # wind direction bins (12 sectors)\n",
    "WDbins_label = ['N','NNE','ENE','E','ESE','SSE',\n",
    "                'S','SSW','WSW','W','WNW','NNW']\n",
    "zLbins = [-20,-0.6,-0.02, 0.02, 0.6, 20] # 5 stability bins\n",
    "zLbins_label = ['vu','u','n','s','vs']\n",
    "\n",
    "### Plot stability per wind direction sector\n",
    "N_WDzL,N_SzL,N_zL,N_WD,S_WDzL = mast.plot_stability(WDbins,WDbins_label,zLbins,zLbins_label,zref)"
   ]
  },
  {
   "cell_type": "markdown",
   "metadata": {},
   "source": [
    "You can get the distributions in tabulated form by simply calling the corresponding dataframe.\n",
    "- *N_WDzL*: number of samples per wind direction and stability class\n",
    "- *N_SzL*: number of samples per wind speed and stability class\n",
    "- *N_zL*: number of samples per stability class\n",
    "- *N_WD*: number of samples per wind direction sector\n",
    "\n",
    "You can also visualize the mean wind speed per bin using the table *S_WDzL*.\n",
    "\n",
    "Note that we will use *N_WDzL* distribution to weight array efficiency for each bin and compute the total array efficiency for the evaluation period."
   ]
  },
  {
   "cell_type": "code",
   "execution_count": null,
   "metadata": {},
   "outputs": [],
   "source": [
    "N_WDzL"
   ]
  },
  {
   "cell_type": "markdown",
   "metadata": {},
   "source": [
    "### Select wind conditions for a stronger wake-effect signal\n",
    "Previous distribution includes all wind speeds. A stronger signal of wake effects will be obtained when the turbines operate around the maximum of the thrust coefficient, say around 9 m/s.  "
   ]
  },
  {
   "cell_type": "code",
   "execution_count": null,
   "metadata": {},
   "outputs": [],
   "source": [
    "min_S = 8\n",
    "max_S = 10\n",
    "\n",
    "N_WDzL,N_SzL,N_zL,N_WD,S_WDzL = mast.analyse_stability(WDbins,WDbins_label,zLbins,zLbins_label,zref,min_S,max_S)"
   ]
  },
  {
   "cell_type": "code",
   "execution_count": null,
   "metadata": {},
   "outputs": [],
   "source": [
    "N_WDzL"
   ]
  },
  {
   "cell_type": "code",
   "execution_count": null,
   "metadata": {},
   "outputs": [],
   "source": [
    "S_WDzL"
   ]
  },
  {
   "cell_type": "code",
   "execution_count": null,
   "metadata": {},
   "outputs": [],
   "source": []
  }
 ],
 "metadata": {
  "kernelspec": {
   "display_name": "Python 3",
   "language": "python",
   "name": "python3"
  },
  "language_info": {
   "codemirror_mode": {
    "name": "ipython",
    "version": 3
   },
   "file_extension": ".py",
   "mimetype": "text/x-python",
   "name": "python",
   "nbconvert_exporter": "python",
   "pygments_lexer": "ipython3",
   "version": "3.7.2"
  }
 },
 "nbformat": 4,
 "nbformat_minor": 2
}
